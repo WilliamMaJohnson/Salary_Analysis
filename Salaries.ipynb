{
 "cells": [
  {
   "cell_type": "code",
   "execution_count": 1,
   "metadata": {},
   "outputs": [],
   "source": [
    "import pandas as pd\n",
    "import matplotlib.pyplot as plt\n",
    "import seaborn as sns"
   ]
  },
  {
   "cell_type": "code",
   "execution_count": 2,
   "metadata": {},
   "outputs": [],
   "source": [
    "##Loading in data set and making 'timestamp' column a datetime data type\n",
    "salaries =  pd.read_csv('data/STEM_salaries.csv', parse_dates=['timestamp'])"
   ]
  },
  {
   "cell_type": "code",
   "execution_count": 3,
   "metadata": {},
   "outputs": [
    {
     "data": {
      "text/plain": [
       "timestamp                  datetime64[ns]\n",
       "company                            object\n",
       "level                              object\n",
       "title                              object\n",
       "totalyearlycompensation             int64\n",
       "location                           object\n",
       "yearsofexperience                 float64\n",
       "yearsatcompany                    float64\n",
       "tag                                object\n",
       "basesalary                        float64\n",
       "stockgrantvalue                   float64\n",
       "bonus                             float64\n",
       "gender                             object\n",
       "otherdetails                       object\n",
       "cityid                              int64\n",
       "dmaid                             float64\n",
       "rowNumber                           int64\n",
       "Masters_Degree                      int64\n",
       "Bachelors_Degree                    int64\n",
       "Doctorate_Degree                    int64\n",
       "Highschool                          int64\n",
       "Some_College                        int64\n",
       "Race_Asian                          int64\n",
       "Race_White                          int64\n",
       "Race_Two_Or_More                    int64\n",
       "Race_Black                          int64\n",
       "Race_Hispanic                       int64\n",
       "Race                               object\n",
       "Education                          object\n",
       "dtype: object"
      ]
     },
     "execution_count": 3,
     "metadata": {},
     "output_type": "execute_result"
    }
   ],
   "source": [
    "salaries.dtypes\n"
   ]
  },
  {
   "cell_type": "code",
   "execution_count": null,
   "metadata": {},
   "outputs": [],
   "source": [
    "salaries"
   ]
  },
  {
   "cell_type": "code",
   "execution_count": 30,
   "metadata": {},
   "outputs": [
    {
     "data": {
      "text/html": [
       "<div>\n",
       "<style scoped>\n",
       "    .dataframe tbody tr th:only-of-type {\n",
       "        vertical-align: middle;\n",
       "    }\n",
       "\n",
       "    .dataframe tbody tr th {\n",
       "        vertical-align: top;\n",
       "    }\n",
       "\n",
       "    .dataframe thead th {\n",
       "        text-align: right;\n",
       "    }\n",
       "</style>\n",
       "<table border=\"1\" class=\"dataframe\">\n",
       "  <thead>\n",
       "    <tr style=\"text-align: right;\">\n",
       "      <th></th>\n",
       "      <th>timestamp</th>\n",
       "      <th>company</th>\n",
       "      <th>level</th>\n",
       "      <th>title</th>\n",
       "      <th>totalyearlycompensation</th>\n",
       "      <th>location</th>\n",
       "      <th>yearsofexperience</th>\n",
       "      <th>yearsatcompany</th>\n",
       "      <th>tag</th>\n",
       "      <th>basesalary</th>\n",
       "      <th>...</th>\n",
       "      <th>Highschool</th>\n",
       "      <th>Some_College</th>\n",
       "      <th>Race_Asian</th>\n",
       "      <th>Race_White</th>\n",
       "      <th>Race_Two_Or_More</th>\n",
       "      <th>Race_Black</th>\n",
       "      <th>Race_Hispanic</th>\n",
       "      <th>Race</th>\n",
       "      <th>Education</th>\n",
       "      <th>year</th>\n",
       "    </tr>\n",
       "  </thead>\n",
       "  <tbody>\n",
       "    <tr>\n",
       "      <th>0</th>\n",
       "      <td>2017-06-07 11:33:27</td>\n",
       "      <td>Oracle</td>\n",
       "      <td>L3</td>\n",
       "      <td>Product Manager</td>\n",
       "      <td>127000</td>\n",
       "      <td>Redwood City, CA</td>\n",
       "      <td>1.5</td>\n",
       "      <td>1.5</td>\n",
       "      <td>NaN</td>\n",
       "      <td>107000.0</td>\n",
       "      <td>...</td>\n",
       "      <td>0</td>\n",
       "      <td>0</td>\n",
       "      <td>0</td>\n",
       "      <td>0</td>\n",
       "      <td>0</td>\n",
       "      <td>0</td>\n",
       "      <td>0</td>\n",
       "      <td>NaN</td>\n",
       "      <td>NaN</td>\n",
       "      <td>2017</td>\n",
       "    </tr>\n",
       "    <tr>\n",
       "      <th>1</th>\n",
       "      <td>2017-06-10 17:11:29</td>\n",
       "      <td>eBay</td>\n",
       "      <td>SE 2</td>\n",
       "      <td>Software Engineer</td>\n",
       "      <td>100000</td>\n",
       "      <td>San Francisco, CA</td>\n",
       "      <td>5.0</td>\n",
       "      <td>3.0</td>\n",
       "      <td>NaN</td>\n",
       "      <td>0.0</td>\n",
       "      <td>...</td>\n",
       "      <td>0</td>\n",
       "      <td>0</td>\n",
       "      <td>0</td>\n",
       "      <td>0</td>\n",
       "      <td>0</td>\n",
       "      <td>0</td>\n",
       "      <td>0</td>\n",
       "      <td>NaN</td>\n",
       "      <td>NaN</td>\n",
       "      <td>2017</td>\n",
       "    </tr>\n",
       "    <tr>\n",
       "      <th>2</th>\n",
       "      <td>2017-06-11 14:53:57</td>\n",
       "      <td>Amazon</td>\n",
       "      <td>L7</td>\n",
       "      <td>Product Manager</td>\n",
       "      <td>310000</td>\n",
       "      <td>Seattle, WA</td>\n",
       "      <td>8.0</td>\n",
       "      <td>0.0</td>\n",
       "      <td>NaN</td>\n",
       "      <td>155000.0</td>\n",
       "      <td>...</td>\n",
       "      <td>0</td>\n",
       "      <td>0</td>\n",
       "      <td>0</td>\n",
       "      <td>0</td>\n",
       "      <td>0</td>\n",
       "      <td>0</td>\n",
       "      <td>0</td>\n",
       "      <td>NaN</td>\n",
       "      <td>NaN</td>\n",
       "      <td>2017</td>\n",
       "    </tr>\n",
       "    <tr>\n",
       "      <th>3</th>\n",
       "      <td>2017-06-17 00:23:14</td>\n",
       "      <td>Apple</td>\n",
       "      <td>M1</td>\n",
       "      <td>Software Engineering Manager</td>\n",
       "      <td>372000</td>\n",
       "      <td>Sunnyvale, CA</td>\n",
       "      <td>7.0</td>\n",
       "      <td>5.0</td>\n",
       "      <td>NaN</td>\n",
       "      <td>157000.0</td>\n",
       "      <td>...</td>\n",
       "      <td>0</td>\n",
       "      <td>0</td>\n",
       "      <td>0</td>\n",
       "      <td>0</td>\n",
       "      <td>0</td>\n",
       "      <td>0</td>\n",
       "      <td>0</td>\n",
       "      <td>NaN</td>\n",
       "      <td>NaN</td>\n",
       "      <td>2017</td>\n",
       "    </tr>\n",
       "    <tr>\n",
       "      <th>4</th>\n",
       "      <td>2017-06-20 10:58:51</td>\n",
       "      <td>Microsoft</td>\n",
       "      <td>60</td>\n",
       "      <td>Software Engineer</td>\n",
       "      <td>157000</td>\n",
       "      <td>Mountain View, CA</td>\n",
       "      <td>5.0</td>\n",
       "      <td>3.0</td>\n",
       "      <td>NaN</td>\n",
       "      <td>0.0</td>\n",
       "      <td>...</td>\n",
       "      <td>0</td>\n",
       "      <td>0</td>\n",
       "      <td>0</td>\n",
       "      <td>0</td>\n",
       "      <td>0</td>\n",
       "      <td>0</td>\n",
       "      <td>0</td>\n",
       "      <td>NaN</td>\n",
       "      <td>NaN</td>\n",
       "      <td>2017</td>\n",
       "    </tr>\n",
       "    <tr>\n",
       "      <th>...</th>\n",
       "      <td>...</td>\n",
       "      <td>...</td>\n",
       "      <td>...</td>\n",
       "      <td>...</td>\n",
       "      <td>...</td>\n",
       "      <td>...</td>\n",
       "      <td>...</td>\n",
       "      <td>...</td>\n",
       "      <td>...</td>\n",
       "      <td>...</td>\n",
       "      <td>...</td>\n",
       "      <td>...</td>\n",
       "      <td>...</td>\n",
       "      <td>...</td>\n",
       "      <td>...</td>\n",
       "      <td>...</td>\n",
       "      <td>...</td>\n",
       "      <td>...</td>\n",
       "      <td>...</td>\n",
       "      <td>...</td>\n",
       "      <td>...</td>\n",
       "    </tr>\n",
       "    <tr>\n",
       "      <th>62637</th>\n",
       "      <td>2018-09-09 11:52:32</td>\n",
       "      <td>Google</td>\n",
       "      <td>T4</td>\n",
       "      <td>Software Engineer</td>\n",
       "      <td>327000</td>\n",
       "      <td>Seattle, WA</td>\n",
       "      <td>10.0</td>\n",
       "      <td>1.0</td>\n",
       "      <td>Distributed Systems (Back-End)</td>\n",
       "      <td>155000.0</td>\n",
       "      <td>...</td>\n",
       "      <td>0</td>\n",
       "      <td>0</td>\n",
       "      <td>0</td>\n",
       "      <td>0</td>\n",
       "      <td>0</td>\n",
       "      <td>0</td>\n",
       "      <td>0</td>\n",
       "      <td>NaN</td>\n",
       "      <td>NaN</td>\n",
       "      <td>2018</td>\n",
       "    </tr>\n",
       "    <tr>\n",
       "      <th>62638</th>\n",
       "      <td>2018-09-13 08:23:32</td>\n",
       "      <td>Microsoft</td>\n",
       "      <td>62</td>\n",
       "      <td>Software Engineer</td>\n",
       "      <td>237000</td>\n",
       "      <td>Redmond, WA</td>\n",
       "      <td>2.0</td>\n",
       "      <td>2.0</td>\n",
       "      <td>Full Stack</td>\n",
       "      <td>146900.0</td>\n",
       "      <td>...</td>\n",
       "      <td>0</td>\n",
       "      <td>0</td>\n",
       "      <td>0</td>\n",
       "      <td>0</td>\n",
       "      <td>0</td>\n",
       "      <td>0</td>\n",
       "      <td>0</td>\n",
       "      <td>NaN</td>\n",
       "      <td>NaN</td>\n",
       "      <td>2018</td>\n",
       "    </tr>\n",
       "    <tr>\n",
       "      <th>62639</th>\n",
       "      <td>2018-09-13 14:35:59</td>\n",
       "      <td>MSFT</td>\n",
       "      <td>63</td>\n",
       "      <td>Software Engineer</td>\n",
       "      <td>220000</td>\n",
       "      <td>Seattle, WA</td>\n",
       "      <td>14.0</td>\n",
       "      <td>12.0</td>\n",
       "      <td>Full Stack</td>\n",
       "      <td>157000.0</td>\n",
       "      <td>...</td>\n",
       "      <td>0</td>\n",
       "      <td>0</td>\n",
       "      <td>0</td>\n",
       "      <td>0</td>\n",
       "      <td>0</td>\n",
       "      <td>0</td>\n",
       "      <td>0</td>\n",
       "      <td>NaN</td>\n",
       "      <td>NaN</td>\n",
       "      <td>2018</td>\n",
       "    </tr>\n",
       "    <tr>\n",
       "      <th>62640</th>\n",
       "      <td>2018-09-16 16:10:35</td>\n",
       "      <td>Salesforce</td>\n",
       "      <td>Lead MTS</td>\n",
       "      <td>Software Engineer</td>\n",
       "      <td>280000</td>\n",
       "      <td>San Francisco, CA</td>\n",
       "      <td>8.0</td>\n",
       "      <td>4.0</td>\n",
       "      <td>iOS</td>\n",
       "      <td>194688.0</td>\n",
       "      <td>...</td>\n",
       "      <td>0</td>\n",
       "      <td>0</td>\n",
       "      <td>0</td>\n",
       "      <td>0</td>\n",
       "      <td>0</td>\n",
       "      <td>0</td>\n",
       "      <td>0</td>\n",
       "      <td>NaN</td>\n",
       "      <td>NaN</td>\n",
       "      <td>2018</td>\n",
       "    </tr>\n",
       "    <tr>\n",
       "      <th>62641</th>\n",
       "      <td>2019-01-29 05:12:59</td>\n",
       "      <td>apple</td>\n",
       "      <td>ict3</td>\n",
       "      <td>Software Engineer</td>\n",
       "      <td>200000</td>\n",
       "      <td>Sunnyvale, CA</td>\n",
       "      <td>0.0</td>\n",
       "      <td>0.0</td>\n",
       "      <td>ML / AI</td>\n",
       "      <td>155000.0</td>\n",
       "      <td>...</td>\n",
       "      <td>0</td>\n",
       "      <td>0</td>\n",
       "      <td>0</td>\n",
       "      <td>0</td>\n",
       "      <td>0</td>\n",
       "      <td>0</td>\n",
       "      <td>0</td>\n",
       "      <td>NaN</td>\n",
       "      <td>NaN</td>\n",
       "      <td>2019</td>\n",
       "    </tr>\n",
       "  </tbody>\n",
       "</table>\n",
       "<p>62642 rows × 30 columns</p>\n",
       "</div>"
      ],
      "text/plain": [
       "                timestamp     company     level                         title  \\\n",
       "0     2017-06-07 11:33:27      Oracle        L3               Product Manager   \n",
       "1     2017-06-10 17:11:29        eBay      SE 2             Software Engineer   \n",
       "2     2017-06-11 14:53:57      Amazon        L7               Product Manager   \n",
       "3     2017-06-17 00:23:14       Apple        M1  Software Engineering Manager   \n",
       "4     2017-06-20 10:58:51   Microsoft        60             Software Engineer   \n",
       "...                   ...         ...       ...                           ...   \n",
       "62637 2018-09-09 11:52:32      Google        T4             Software Engineer   \n",
       "62638 2018-09-13 08:23:32   Microsoft        62             Software Engineer   \n",
       "62639 2018-09-13 14:35:59        MSFT        63             Software Engineer   \n",
       "62640 2018-09-16 16:10:35  Salesforce  Lead MTS             Software Engineer   \n",
       "62641 2019-01-29 05:12:59       apple      ict3             Software Engineer   \n",
       "\n",
       "       totalyearlycompensation           location  yearsofexperience  \\\n",
       "0                       127000   Redwood City, CA                1.5   \n",
       "1                       100000  San Francisco, CA                5.0   \n",
       "2                       310000        Seattle, WA                8.0   \n",
       "3                       372000      Sunnyvale, CA                7.0   \n",
       "4                       157000  Mountain View, CA                5.0   \n",
       "...                        ...                ...                ...   \n",
       "62637                   327000        Seattle, WA               10.0   \n",
       "62638                   237000        Redmond, WA                2.0   \n",
       "62639                   220000        Seattle, WA               14.0   \n",
       "62640                   280000  San Francisco, CA                8.0   \n",
       "62641                   200000      Sunnyvale, CA                0.0   \n",
       "\n",
       "       yearsatcompany                             tag  basesalary  ...  \\\n",
       "0                 1.5                             NaN    107000.0  ...   \n",
       "1                 3.0                             NaN         0.0  ...   \n",
       "2                 0.0                             NaN    155000.0  ...   \n",
       "3                 5.0                             NaN    157000.0  ...   \n",
       "4                 3.0                             NaN         0.0  ...   \n",
       "...               ...                             ...         ...  ...   \n",
       "62637             1.0  Distributed Systems (Back-End)    155000.0  ...   \n",
       "62638             2.0                      Full Stack    146900.0  ...   \n",
       "62639            12.0                      Full Stack    157000.0  ...   \n",
       "62640             4.0                             iOS    194688.0  ...   \n",
       "62641             0.0                         ML / AI    155000.0  ...   \n",
       "\n",
       "       Highschool  Some_College Race_Asian Race_White  Race_Two_Or_More  \\\n",
       "0               0             0          0          0                 0   \n",
       "1               0             0          0          0                 0   \n",
       "2               0             0          0          0                 0   \n",
       "3               0             0          0          0                 0   \n",
       "4               0             0          0          0                 0   \n",
       "...           ...           ...        ...        ...               ...   \n",
       "62637           0             0          0          0                 0   \n",
       "62638           0             0          0          0                 0   \n",
       "62639           0             0          0          0                 0   \n",
       "62640           0             0          0          0                 0   \n",
       "62641           0             0          0          0                 0   \n",
       "\n",
       "       Race_Black  Race_Hispanic  Race  Education  year  \n",
       "0               0              0   NaN        NaN  2017  \n",
       "1               0              0   NaN        NaN  2017  \n",
       "2               0              0   NaN        NaN  2017  \n",
       "3               0              0   NaN        NaN  2017  \n",
       "4               0              0   NaN        NaN  2017  \n",
       "...           ...            ...   ...        ...   ...  \n",
       "62637           0              0   NaN        NaN  2018  \n",
       "62638           0              0   NaN        NaN  2018  \n",
       "62639           0              0   NaN        NaN  2018  \n",
       "62640           0              0   NaN        NaN  2018  \n",
       "62641           0              0   NaN        NaN  2019  \n",
       "\n",
       "[62642 rows x 30 columns]"
      ]
     },
     "execution_count": 30,
     "metadata": {},
     "output_type": "execute_result"
    }
   ],
   "source": [
    "##extracting year from timestamp column and making new colum\n",
    "salaries['year'] = salaries['timestamp'].dt.year"
   ]
  },
  {
   "cell_type": "code",
   "execution_count": 184,
   "metadata": {},
   "outputs": [
    {
     "data": {
      "image/png": "[encoded data removed]",
      "text/plain": [
       "<Figure size 1008x360 with 5 Axes>"
      ]
     },
     "metadata": {},
     "output_type": "display_data"
    }
   ],
   "source": [
    "##Plotting top 10 salaries per year for the data\n",
    "salaries =  pd.read_csv('data/STEM_salaries.csv', parse_dates=['timestamp'])\n",
    "salaries['year'] = salaries['timestamp'].dt.year\n",
    "plt.style.use(\"fivethirtyeight\")\n",
    "fig,axs = plt.subplots(1,5, figsize = (14,5))\n",
    "fig.suptitle('Top 10 Salaries per Year', fontsize = 20)\n",
    "salaries[salaries['year'] == 2017]['totalyearlycompensation'].value_counts().head(10).plot(kind='bar', ax=axs[0], title ='2017')\n",
    "salaries[salaries['year'] == 2018]['totalyearlycompensation'].value_counts().head(10).plot(kind='bar' ,ax=axs[1], title ='2018')\n",
    "salaries[salaries['year'] == 2019]['totalyearlycompensation'].value_counts().head(10).plot(kind='bar' ,ax=axs[2], title ='2019')\n",
    "salaries[salaries['year'] == 2020]['totalyearlycompensation'].value_counts().head(10).plot(kind='bar' ,ax=axs[3], title ='2020')\n",
    "salaries[salaries['year'] == 2021]['totalyearlycompensation'].value_counts().head(10).plot(kind='bar' ,ax=axs[4], title ='2021')\n",
    "plt.tight_layout()"
   ]
  },
  {
   "cell_type": "markdown",
   "metadata": {},
   "source": [
    "Above, 2017 looks kind of funky because there are only 185 data points. Most of the data is from 2019-2021.\n",
    "\n",
    "For the top 10 salaries, it looks as if 2020 had the highest top 10 salaries, and then things dropped off some in 2021.. most likely due to the pandemic. Let's check the averages for 2020 and 2021 to see which salary was higher"
   ]
  },
  {
   "cell_type": "code",
   "execution_count": 191,
   "metadata": {},
   "outputs": [
    {
     "data": {
      "text/plain": [
       "188000.0"
      ]
     },
     "execution_count": 191,
     "metadata": {},
     "output_type": "execute_result"
    }
   ],
   "source": [
    "salaries[salaries['year'] == 2020]['totalyearlycompensation'].median()\n",
    "#salaries[salaries['year'] == 2021]['totalyearlycompensation'].median()\n",
    "\n",
    "## Median Salary for 2021 was $1770000\n",
    "##Median Salary for 2020 was $188000\n",
    "\n",
    "# Our asssessment that 2020 had higher salaries is correct as you can see from the median salaries above\n",
    "\n"
   ]
  },
  {
   "cell_type": "code",
   "execution_count": 230,
   "metadata": {},
   "outputs": [],
   "source": [
    "black = salaries[salaries['Race_Black']==1]\n"
   ]
  },
  {
   "cell_type": "code",
   "execution_count": 231,
   "metadata": {},
   "outputs": [],
   "source": [
    "hispanic = salaries[salaries['Race_Hispanic']==1]"
   ]
  },
  {
   "cell_type": "code",
   "execution_count": 232,
   "metadata": {},
   "outputs": [],
   "source": [
    "asian = salaries[salaries['Race_Asian']==1]"
   ]
  },
  {
   "cell_type": "code",
   "execution_count": 233,
   "metadata": {},
   "outputs": [],
   "source": [
    "white = salaries[salaries['Race_White']==1]"
   ]
  },
  {
   "cell_type": "code",
   "execution_count": 260,
   "metadata": {},
   "outputs": [
    {
     "data": {
      "text/html": [
       "<div>\n",
       "<style scoped>\n",
       "    .dataframe tbody tr th:only-of-type {\n",
       "        vertical-align: middle;\n",
       "    }\n",
       "\n",
       "    .dataframe tbody tr th {\n",
       "        vertical-align: top;\n",
       "    }\n",
       "\n",
       "    .dataframe thead th {\n",
       "        text-align: right;\n",
       "    }\n",
       "</style>\n",
       "<table border=\"1\" class=\"dataframe\">\n",
       "  <thead>\n",
       "    <tr style=\"text-align: right;\">\n",
       "      <th></th>\n",
       "      <th>timestamp</th>\n",
       "      <th>company</th>\n",
       "      <th>level</th>\n",
       "      <th>title</th>\n",
       "      <th>totalyearlycompensation</th>\n",
       "      <th>location</th>\n",
       "      <th>yearsofexperience</th>\n",
       "      <th>yearsatcompany</th>\n",
       "      <th>tag</th>\n",
       "      <th>basesalary</th>\n",
       "      <th>...</th>\n",
       "      <th>Highschool</th>\n",
       "      <th>Some_College</th>\n",
       "      <th>Race_Asian</th>\n",
       "      <th>Race_White</th>\n",
       "      <th>Race_Two_Or_More</th>\n",
       "      <th>Race_Black</th>\n",
       "      <th>Race_Hispanic</th>\n",
       "      <th>Race</th>\n",
       "      <th>Education</th>\n",
       "      <th>year</th>\n",
       "    </tr>\n",
       "  </thead>\n",
       "  <tbody>\n",
       "    <tr>\n",
       "      <th>10937</th>\n",
       "      <td>2019-09-15 20:11:14</td>\n",
       "      <td>Comcast</td>\n",
       "      <td>Engineer 2</td>\n",
       "      <td>Software Engineer</td>\n",
       "      <td>103000</td>\n",
       "      <td>Philadelphia, PA</td>\n",
       "      <td>2.0</td>\n",
       "      <td>1.0</td>\n",
       "      <td>Full Stack</td>\n",
       "      <td>96000.0</td>\n",
       "      <td>...</td>\n",
       "      <td>0</td>\n",
       "      <td>0</td>\n",
       "      <td>0</td>\n",
       "      <td>0</td>\n",
       "      <td>0</td>\n",
       "      <td>1</td>\n",
       "      <td>0</td>\n",
       "      <td>Black</td>\n",
       "      <td>NaN</td>\n",
       "      <td>2019</td>\n",
       "    </tr>\n",
       "    <tr>\n",
       "      <th>20713</th>\n",
       "      <td>2020-05-09 10:48:41</td>\n",
       "      <td>IBM</td>\n",
       "      <td>6</td>\n",
       "      <td>Data Scientist</td>\n",
       "      <td>85000</td>\n",
       "      <td>Calgary, AB, Canada</td>\n",
       "      <td>2.0</td>\n",
       "      <td>2.0</td>\n",
       "      <td>ML / AI</td>\n",
       "      <td>71000.0</td>\n",
       "      <td>...</td>\n",
       "      <td>0</td>\n",
       "      <td>0</td>\n",
       "      <td>0</td>\n",
       "      <td>0</td>\n",
       "      <td>0</td>\n",
       "      <td>1</td>\n",
       "      <td>0</td>\n",
       "      <td>Black</td>\n",
       "      <td>NaN</td>\n",
       "      <td>2020</td>\n",
       "    </tr>\n",
       "    <tr>\n",
       "      <th>23544</th>\n",
       "      <td>2020-07-04 00:12:27</td>\n",
       "      <td>Square</td>\n",
       "      <td>Level 4</td>\n",
       "      <td>Software Engineer</td>\n",
       "      <td>212000</td>\n",
       "      <td>San Francisco, CA</td>\n",
       "      <td>5.0</td>\n",
       "      <td>1.0</td>\n",
       "      <td>Full Stack</td>\n",
       "      <td>140000.0</td>\n",
       "      <td>...</td>\n",
       "      <td>0</td>\n",
       "      <td>1</td>\n",
       "      <td>0</td>\n",
       "      <td>0</td>\n",
       "      <td>0</td>\n",
       "      <td>1</td>\n",
       "      <td>0</td>\n",
       "      <td>Black</td>\n",
       "      <td>Some College</td>\n",
       "      <td>2020</td>\n",
       "    </tr>\n",
       "    <tr>\n",
       "      <th>23613</th>\n",
       "      <td>2020-07-05 20:50:57</td>\n",
       "      <td>Amazon</td>\n",
       "      <td>Senior SDE</td>\n",
       "      <td>Solution Architect</td>\n",
       "      <td>181000</td>\n",
       "      <td>Claremont, CA</td>\n",
       "      <td>10.0</td>\n",
       "      <td>2.0</td>\n",
       "      <td>DevOps</td>\n",
       "      <td>180000.0</td>\n",
       "      <td>...</td>\n",
       "      <td>0</td>\n",
       "      <td>0</td>\n",
       "      <td>0</td>\n",
       "      <td>0</td>\n",
       "      <td>0</td>\n",
       "      <td>1</td>\n",
       "      <td>0</td>\n",
       "      <td>Black</td>\n",
       "      <td>Bachelor's Degree</td>\n",
       "      <td>2020</td>\n",
       "    </tr>\n",
       "    <tr>\n",
       "      <th>23684</th>\n",
       "      <td>2020-07-06 17:57:49</td>\n",
       "      <td>Bloomberg</td>\n",
       "      <td>Software Engineer</td>\n",
       "      <td>Software Engineer</td>\n",
       "      <td>165000</td>\n",
       "      <td>New York, NY</td>\n",
       "      <td>0.0</td>\n",
       "      <td>0.0</td>\n",
       "      <td>Security</td>\n",
       "      <td>145000.0</td>\n",
       "      <td>...</td>\n",
       "      <td>0</td>\n",
       "      <td>0</td>\n",
       "      <td>0</td>\n",
       "      <td>0</td>\n",
       "      <td>0</td>\n",
       "      <td>1</td>\n",
       "      <td>0</td>\n",
       "      <td>Black</td>\n",
       "      <td>Bachelor's Degree</td>\n",
       "      <td>2020</td>\n",
       "    </tr>\n",
       "    <tr>\n",
       "      <th>...</th>\n",
       "      <td>...</td>\n",
       "      <td>...</td>\n",
       "      <td>...</td>\n",
       "      <td>...</td>\n",
       "      <td>...</td>\n",
       "      <td>...</td>\n",
       "      <td>...</td>\n",
       "      <td>...</td>\n",
       "      <td>...</td>\n",
       "      <td>...</td>\n",
       "      <td>...</td>\n",
       "      <td>...</td>\n",
       "      <td>...</td>\n",
       "      <td>...</td>\n",
       "      <td>...</td>\n",
       "      <td>...</td>\n",
       "      <td>...</td>\n",
       "      <td>...</td>\n",
       "      <td>...</td>\n",
       "      <td>...</td>\n",
       "      <td>...</td>\n",
       "    </tr>\n",
       "    <tr>\n",
       "      <th>61831</th>\n",
       "      <td>2021-08-17 08:22:17</td>\n",
       "      <td>Fidelity Investments</td>\n",
       "      <td>L3</td>\n",
       "      <td>Software Engineer</td>\n",
       "      <td>98000</td>\n",
       "      <td>Durham, NC</td>\n",
       "      <td>0.0</td>\n",
       "      <td>0.0</td>\n",
       "      <td>Full Stack</td>\n",
       "      <td>85000.0</td>\n",
       "      <td>...</td>\n",
       "      <td>0</td>\n",
       "      <td>0</td>\n",
       "      <td>0</td>\n",
       "      <td>1</td>\n",
       "      <td>0</td>\n",
       "      <td>0</td>\n",
       "      <td>0</td>\n",
       "      <td>White</td>\n",
       "      <td>NaN</td>\n",
       "      <td>2021</td>\n",
       "    </tr>\n",
       "    <tr>\n",
       "      <th>61975</th>\n",
       "      <td>2020-09-03 09:24:25</td>\n",
       "      <td>Facebook</td>\n",
       "      <td>M2</td>\n",
       "      <td>Software Engineering Manager</td>\n",
       "      <td>1733000</td>\n",
       "      <td>Seattle, WA</td>\n",
       "      <td>23.0</td>\n",
       "      <td>6.0</td>\n",
       "      <td>DevInfra</td>\n",
       "      <td>288000.0</td>\n",
       "      <td>...</td>\n",
       "      <td>0</td>\n",
       "      <td>0</td>\n",
       "      <td>0</td>\n",
       "      <td>1</td>\n",
       "      <td>0</td>\n",
       "      <td>0</td>\n",
       "      <td>0</td>\n",
       "      <td>White</td>\n",
       "      <td>Bachelor's Degree</td>\n",
       "      <td>2020</td>\n",
       "    </tr>\n",
       "    <tr>\n",
       "      <th>61976</th>\n",
       "      <td>2020-11-09 20:27:59</td>\n",
       "      <td>Snap</td>\n",
       "      <td>L5</td>\n",
       "      <td>Software Engineering Manager</td>\n",
       "      <td>1400000</td>\n",
       "      <td>Los Angeles, CA</td>\n",
       "      <td>5.0</td>\n",
       "      <td>4.0</td>\n",
       "      <td>Security</td>\n",
       "      <td>235000.0</td>\n",
       "      <td>...</td>\n",
       "      <td>0</td>\n",
       "      <td>0</td>\n",
       "      <td>0</td>\n",
       "      <td>1</td>\n",
       "      <td>0</td>\n",
       "      <td>0</td>\n",
       "      <td>0</td>\n",
       "      <td>White</td>\n",
       "      <td>Bachelor's Degree</td>\n",
       "      <td>2020</td>\n",
       "    </tr>\n",
       "    <tr>\n",
       "      <th>61979</th>\n",
       "      <td>2021-01-17 04:38:07</td>\n",
       "      <td>Broadcom</td>\n",
       "      <td>Director</td>\n",
       "      <td>Marketing</td>\n",
       "      <td>1470000</td>\n",
       "      <td>San Jose, CA</td>\n",
       "      <td>21.0</td>\n",
       "      <td>9.0</td>\n",
       "      <td>Product</td>\n",
       "      <td>220000.0</td>\n",
       "      <td>...</td>\n",
       "      <td>0</td>\n",
       "      <td>0</td>\n",
       "      <td>0</td>\n",
       "      <td>1</td>\n",
       "      <td>0</td>\n",
       "      <td>0</td>\n",
       "      <td>0</td>\n",
       "      <td>White</td>\n",
       "      <td>Master's Degree</td>\n",
       "      <td>2021</td>\n",
       "    </tr>\n",
       "    <tr>\n",
       "      <th>61984</th>\n",
       "      <td>2021-03-25 10:45:03</td>\n",
       "      <td>Zapier</td>\n",
       "      <td>L8</td>\n",
       "      <td>Software Engineering Manager</td>\n",
       "      <td>1605000</td>\n",
       "      <td>Denver, CO</td>\n",
       "      <td>16.0</td>\n",
       "      <td>2.0</td>\n",
       "      <td>Full Stack</td>\n",
       "      <td>250000.0</td>\n",
       "      <td>...</td>\n",
       "      <td>0</td>\n",
       "      <td>0</td>\n",
       "      <td>0</td>\n",
       "      <td>1</td>\n",
       "      <td>0</td>\n",
       "      <td>0</td>\n",
       "      <td>0</td>\n",
       "      <td>White</td>\n",
       "      <td>Master's Degree</td>\n",
       "      <td>2021</td>\n",
       "    </tr>\n",
       "  </tbody>\n",
       "</table>\n",
       "<p>21624 rows × 30 columns</p>\n",
       "</div>"
      ],
      "text/plain": [
       "                timestamp               company              level  \\\n",
       "10937 2019-09-15 20:11:14               Comcast         Engineer 2   \n",
       "20713 2020-05-09 10:48:41                   IBM                  6   \n",
       "23544 2020-07-04 00:12:27                Square            Level 4   \n",
       "23613 2020-07-05 20:50:57                Amazon         Senior SDE   \n",
       "23684 2020-07-06 17:57:49             Bloomberg  Software Engineer   \n",
       "...                   ...                   ...                ...   \n",
       "61831 2021-08-17 08:22:17  Fidelity Investments                 L3   \n",
       "61975 2020-09-03 09:24:25              Facebook                 M2   \n",
       "61976 2020-11-09 20:27:59                  Snap                 L5   \n",
       "61979 2021-01-17 04:38:07              Broadcom           Director   \n",
       "61984 2021-03-25 10:45:03                Zapier                 L8   \n",
       "\n",
       "                              title  totalyearlycompensation  \\\n",
       "10937             Software Engineer                   103000   \n",
       "20713                Data Scientist                    85000   \n",
       "23544             Software Engineer                   212000   \n",
       "23613            Solution Architect                   181000   \n",
       "23684             Software Engineer                   165000   \n",
       "...                             ...                      ...   \n",
       "61831             Software Engineer                    98000   \n",
       "61975  Software Engineering Manager                  1733000   \n",
       "61976  Software Engineering Manager                  1400000   \n",
       "61979                     Marketing                  1470000   \n",
       "61984  Software Engineering Manager                  1605000   \n",
       "\n",
       "                  location  yearsofexperience  yearsatcompany         tag  \\\n",
       "10937     Philadelphia, PA                2.0             1.0  Full Stack   \n",
       "20713  Calgary, AB, Canada                2.0             2.0     ML / AI   \n",
       "23544    San Francisco, CA                5.0             1.0  Full Stack   \n",
       "23613        Claremont, CA               10.0             2.0      DevOps   \n",
       "23684         New York, NY                0.0             0.0    Security   \n",
       "...                    ...                ...             ...         ...   \n",
       "61831           Durham, NC                0.0             0.0  Full Stack   \n",
       "61975          Seattle, WA               23.0             6.0    DevInfra   \n",
       "61976      Los Angeles, CA                5.0             4.0    Security   \n",
       "61979         San Jose, CA               21.0             9.0     Product   \n",
       "61984           Denver, CO               16.0             2.0  Full Stack   \n",
       "\n",
       "       basesalary  ...  Highschool  Some_College Race_Asian Race_White  \\\n",
       "10937     96000.0  ...           0             0          0          0   \n",
       "20713     71000.0  ...           0             0          0          0   \n",
       "23544    140000.0  ...           0             1          0          0   \n",
       "23613    180000.0  ...           0             0          0          0   \n",
       "23684    145000.0  ...           0             0          0          0   \n",
       "...           ...  ...         ...           ...        ...        ...   \n",
       "61831     85000.0  ...           0             0          0          1   \n",
       "61975    288000.0  ...           0             0          0          1   \n",
       "61976    235000.0  ...           0             0          0          1   \n",
       "61979    220000.0  ...           0             0          0          1   \n",
       "61984    250000.0  ...           0             0          0          1   \n",
       "\n",
       "       Race_Two_Or_More  Race_Black  Race_Hispanic   Race          Education  \\\n",
       "10937                 0           1              0  Black                NaN   \n",
       "20713                 0           1              0  Black                NaN   \n",
       "23544                 0           1              0  Black       Some College   \n",
       "23613                 0           1              0  Black  Bachelor's Degree   \n",
       "23684                 0           1              0  Black  Bachelor's Degree   \n",
       "...                 ...         ...            ...    ...                ...   \n",
       "61831                 0           0              0  White                NaN   \n",
       "61975                 0           0              0  White  Bachelor's Degree   \n",
       "61976                 0           0              0  White  Bachelor's Degree   \n",
       "61979                 0           0              0  White    Master's Degree   \n",
       "61984                 0           0              0  White    Master's Degree   \n",
       "\n",
       "       year  \n",
       "10937  2019  \n",
       "20713  2020  \n",
       "23544  2020  \n",
       "23613  2020  \n",
       "23684  2020  \n",
       "...     ...  \n",
       "61831  2021  \n",
       "61975  2020  \n",
       "61976  2020  \n",
       "61979  2021  \n",
       "61984  2021  \n",
       "\n",
       "[21624 rows x 30 columns]"
      ]
     },
     "execution_count": 260,
     "metadata": {},
     "output_type": "execute_result"
    }
   ],
   "source": [
    "new = pd.concat([black, hispanic, asian, white])\n",
    "new"
   ]
  },
  {
   "cell_type": "code",
   "execution_count": 275,
   "metadata": {},
   "outputs": [
    {
     "data": {
      "text/plain": [
       "<AxesSubplot:xlabel='Race'>"
      ]
     },
     "execution_count": 275,
     "metadata": {},
     "output_type": "execute_result"
    },
    {
     "data": {
      "image/png": "[encoded data removed]",
      "text/plain": [
       "<Figure size 432x288 with 1 Axes>"
      ]
     },
     "metadata": {},
     "output_type": "display_data"
    }
   ],
   "source": [
    "new.groupby('Race')['totalyearlycompensation'].mean().plot(kind='bar')\n"
   ]
  },
  {
   "cell_type": "markdown",
   "metadata": {},
   "source": [
    "The results above highlights pay discrepancies. White people tend to make about $15000 more than black employees and about $10K more than Hispanic employees"
   ]
  },
  {
   "cell_type": "code",
   "execution_count": 356,
   "metadata": {},
   "outputs": [
    {
     "data": {
      "text/plain": [
       "['Solarize_Light2',\n",
       " '_classic_test_patch',\n",
       " 'bmh',\n",
       " 'classic',\n",
       " 'dark_background',\n",
       " 'fast',\n",
       " 'fivethirtyeight',\n",
       " 'ggplot',\n",
       " 'grayscale',\n",
       " 'seaborn',\n",
       " 'seaborn-bright',\n",
       " 'seaborn-colorblind',\n",
       " 'seaborn-dark',\n",
       " 'seaborn-dark-palette',\n",
       " 'seaborn-darkgrid',\n",
       " 'seaborn-deep',\n",
       " 'seaborn-muted',\n",
       " 'seaborn-notebook',\n",
       " 'seaborn-paper',\n",
       " 'seaborn-pastel',\n",
       " 'seaborn-poster',\n",
       " 'seaborn-talk',\n",
       " 'seaborn-ticks',\n",
       " 'seaborn-white',\n",
       " 'seaborn-whitegrid',\n",
       " 'tableau-colorblind10']"
      ]
     },
     "execution_count": 356,
     "metadata": {},
     "output_type": "execute_result"
    }
   ],
   "source": [
    "plt.style.available"
   ]
  },
  {
   "cell_type": "code",
   "execution_count": 358,
   "metadata": {},
   "outputs": [
    {
     "data": {
      "image/png": "[encoded data removed]",
      "text/plain": [
       "<Figure size 1008x576 with 5 Axes>"
      ]
     },
     "metadata": {},
     "output_type": "display_data"
    }
   ],
   "source": [
    "plt.style.use(\"seaborn\")\n",
    "fix, axs = plt.subplots(1,5, figsize=(14,8))\n",
    "plt.suptitle('Salaries By Race and Education')\n",
    "plt.xlabel('Race')\n",
    "plt.ylabel('Total Yearly Compensation')\n",
    "\n",
    "new[new['Education'] == \"Highschool\"].groupby('Race')['totalyearlycompensation'].mean().plot(kind='bar', ax=axs[0], title = 'HighSchool')\n",
    "new[new['Education'] == \"Some College\"].groupby('Race')['totalyearlycompensation'].mean().plot(kind='bar', ax=axs[1], title = 'Some College')\n",
    "new[new['Education'] == \"Bachelor's Degree\"].groupby('Race')['totalyearlycompensation'].mean().plot(kind='bar', ax=axs[2], title = \"Bachelor's Degree\")\n",
    "new[new['Education'] == \"Master's Degree\"].groupby('Race')['totalyearlycompensation'].mean().plot(kind='bar', ax=axs[3], title = \"Master's Degree\")\n",
    "new[new['Education'] == \"PhD\"].groupby('Race')['totalyearlycompensation'].mean().plot(kind='bar', ax=axs[4], title = 'PhD')\n",
    "plt.tight_layout()\n",
    "\n",
    "\n"
   ]
  },
  {
   "cell_type": "code",
   "execution_count": null,
   "metadata": {},
   "outputs": [],
   "source": [
    "Regardless of level of college education, minorities make less money than"
   ]
  },
  {
   "cell_type": "code",
   "execution_count": 347,
   "metadata": {},
   "outputs": [
    {
     "data": {
      "text/plain": [
       "Asian       6115\n",
       "White       2303\n",
       "Hispanic     286\n",
       "Black        209\n",
       "Name: Race, dtype: int64"
      ]
     },
     "execution_count": 347,
     "metadata": {},
     "output_type": "execute_result"
    }
   ],
   "source": [
    "new[new['Education'] == \"Master's Degree\"]['Race'].value_counts()"
   ]
  },
  {
   "cell_type": "code",
   "execution_count": 350,
   "metadata": {},
   "outputs": [
    {
     "data": {
      "text/plain": [
       "White       211\n",
       "Asian        33\n",
       "Hispanic     31\n",
       "Black        10\n",
       "Name: Race, dtype: int64"
      ]
     },
     "execution_count": 350,
     "metadata": {},
     "output_type": "execute_result"
    }
   ],
   "source": [
    "new[new['Education'] == \"Highschool\"]['Race'].value_counts()"
   ]
  },
  {
   "cell_type": "code",
   "execution_count": 353,
   "metadata": {},
   "outputs": [
    {
     "data": {
      "text/plain": [
       "Asian       4821\n",
       "White       4574\n",
       "Hispanic     687\n",
       "Black        412\n",
       "Name: Race, dtype: int64"
      ]
     },
     "execution_count": 353,
     "metadata": {},
     "output_type": "execute_result"
    }
   ],
   "source": [
    "new[new['Education'] == \"Bachelor's Degree\"][\"Race\"].value_counts()"
   ]
  },
  {
   "cell_type": "code",
   "execution_count": 354,
   "metadata": {},
   "outputs": [
    {
     "data": {
      "text/plain": [
       "Asian       478\n",
       "White       372\n",
       "Hispanic     41\n",
       "Black        13\n",
       "Name: Race, dtype: int64"
      ]
     },
     "execution_count": 354,
     "metadata": {},
     "output_type": "execute_result"
    }
   ],
   "source": [
    "new[new['Education'] == \"PhD\"][\"Race\"].value_counts()"
   ]
  },
  {
   "cell_type": "code",
   "execution_count": 5,
   "metadata": {},
   "outputs": [
    {
     "data": {
      "text/plain": [
       "Text(0.5, 1.0, 'Companies with top 10 base salaries')"
      ]
     },
     "execution_count": 5,
     "metadata": {},
     "output_type": "execute_result"
    },
    {
     "data": {
      "image/png": "[encoded data removed]",
      "text/plain": [
       "<Figure size 432x288 with 1 Axes>"
      ]
     },
     "metadata": {
      "needs_background": "light"
     },
     "output_type": "display_data"
    }
   ],
   "source": [
    "salaries.groupby('company')['basesalary'].mean().sort_values(ascending=False).head(10).plot(kind='bar')\n",
    "plt.title('Companies with top 10 base salaries')\n",
    "## Netflix pays the highest average base salary"
   ]
  },
  {
   "cell_type": "code",
   "execution_count": 368,
   "metadata": {},
   "outputs": [
    {
     "data": {
      "text/plain": [
       "<AxesSubplot:xlabel='Race'>"
      ]
     },
     "execution_count": 368,
     "metadata": {},
     "output_type": "execute_result"
    },
    {
     "data": {
      "image/png": "[encoded data removed]",
      "text/plain": [
       "<Figure size 576x396 with 1 Axes>"
      ]
     },
     "metadata": {},
     "output_type": "display_data"
    }
   ],
   "source": [
    "salaries[salaries['company'] == 'Netflix'].groupby(\"Race\")['basesalary'].mean().plot(kind='bar')"
   ]
  },
  {
   "cell_type": "code",
   "execution_count": 388,
   "metadata": {},
   "outputs": [
    {
     "data": {
      "text/plain": [
       "<AxesSubplot:xlabel='company'>"
      ]
     },
     "execution_count": 388,
     "metadata": {},
     "output_type": "execute_result"
    },
    {
     "data": {
      "image/png": "[encoded data removed]",
      "text/plain": [
       "<Figure size 576x396 with 1 Axes>"
      ]
     },
     "metadata": {},
     "output_type": "display_data"
    }
   ],
   "source": [
    "salaries [salaries['Race'] == 'Black'].groupby('company')['totalyearlycompensation'].mean().sort_values(ascending=False).head(10).plot(kind='bar')\n",
    "## look at who pays different races best (mean)"
   ]
  },
  {
   "cell_type": "code",
   "execution_count": 389,
   "metadata": {},
   "outputs": [
    {
     "data": {
      "text/plain": [
       "<AxesSubplot:xlabel='company'>"
      ]
     },
     "execution_count": 389,
     "metadata": {},
     "output_type": "execute_result"
    },
    {
     "data": {
      "image/png": "[encoded data removed]",
      "text/plain": [
       "<Figure size 576x396 with 1 Axes>"
      ]
     },
     "metadata": {},
     "output_type": "display_data"
    }
   ],
   "source": [
    "salaries [salaries['Race'] == 'Asian'].groupby('company')['totalyearlycompensation'].mean().sort_values(ascending=False).head(10).plot(kind='bar')"
   ]
  },
  {
   "cell_type": "code",
   "execution_count": 390,
   "metadata": {},
   "outputs": [
    {
     "data": {
      "text/plain": [
       "<AxesSubplot:xlabel='company'>"
      ]
     },
     "execution_count": 390,
     "metadata": {},
     "output_type": "execute_result"
    },
    {
     "data": {
      "image/png": "[encoded data removed]",
      "text/plain": [
       "<Figure size 576x396 with 1 Axes>"
      ]
     },
     "metadata": {},
     "output_type": "display_data"
    }
   ],
   "source": [
    "salaries [salaries['Race'] == 'Hispanic'].groupby('company')['totalyearlycompensation'].mean().sort_values(ascending=False).head(10).plot(kind='bar')"
   ]
  },
  {
   "cell_type": "code",
   "execution_count": 391,
   "metadata": {},
   "outputs": [
    {
     "data": {
      "text/plain": [
       "<AxesSubplot:xlabel='company'>"
      ]
     },
     "execution_count": 391,
     "metadata": {},
     "output_type": "execute_result"
    },
    {
     "data": {
      "image/png": "[encoded data removed]",
      "text/plain": [
       "<Figure size 576x396 with 1 Axes>"
      ]
     },
     "metadata": {},
     "output_type": "display_data"
    }
   ],
   "source": [
    "salaries [salaries['Race'] == 'White'].groupby('company')['totalyearlycompensation'].mean().sort_values(ascending=False).head(10).plot(kind='bar')"
   ]
  },
  {
   "cell_type": "code",
   "execution_count": 6,
   "metadata": {},
   "outputs": [
    {
     "data": {
      "image/png": "[encoded data removed]",
      "text/plain": [
       "<Figure size 432x288 with 1 Axes>"
      ]
     },
     "metadata": {
      "needs_background": "light"
     },
     "output_type": "display_data"
    }
   ],
   "source": [
    "salaries.groupby('title')['totalyearlycompensation'].mean().sort_values(ascending=False).head(10).plot(kind='bar')\n",
    "plt.title('Top 10 positions by total comp')\n",
    "plt.show()\n",
    "##From the chart below we can see that SE managers have the highest average total comp"
   ]
  },
  {
   "cell_type": "code",
   "execution_count": 7,
   "metadata": {},
   "outputs": [],
   "source": [
    "SEM = salaries[salaries['title'] == 'Software Engineering Manager']"
   ]
  },
  {
   "cell_type": "code",
   "execution_count": 375,
   "metadata": {},
   "outputs": [
    {
     "data": {
      "text/plain": [
       "<AxesSubplot:xlabel='company'>"
      ]
     },
     "execution_count": 375,
     "metadata": {},
     "output_type": "execute_result"
    },
    {
     "data": {
      "image/png": "[encoded data removed]",
      "text/plain": [
       "<Figure size 720x432 with 1 Axes>"
      ]
     },
     "metadata": {},
     "output_type": "display_data"
    }
   ],
   "source": [
    "plt.figure(figsize=(10,6))\n",
    "SEM.groupby('company')['totalyearlycompensation'].mean().sort_values(ascending=False).head(30).plot(kind='bar')\n",
    "\n",
    "##For the software engineer managers ( the title with the highest salaries), \n",
    "##SOFI pays an average total comp of $1.2 million. WOW!"
   ]
  },
  {
   "cell_type": "code",
   "execution_count": 9,
   "metadata": {},
   "outputs": [
    {
     "data": {
      "text/plain": [
       "2020    23946\n",
       "2021    23427\n",
       "2019    11189\n",
       "2018     3895\n",
       "2017      185\n",
       "Name: timestamp, dtype: int64"
      ]
     },
     "execution_count": 9,
     "metadata": {},
     "output_type": "execute_result"
    }
   ],
   "source": [
    "salaries['timestamp'].dt.year.value_counts()\n",
    "##Most of data records are from 2020 and 2021"
   ]
  },
  {
   "cell_type": "code",
   "execution_count": 20,
   "metadata": {},
   "outputs": [
    {
     "name": "stderr",
     "output_type": "stream",
     "text": [
      "<ipython-input-20-ad5c755117da>:1: SettingWithCopyWarning: \n",
      "A value is trying to be set on a copy of a slice from a DataFrame.\n",
      "Try using .loc[row_indexer,col_indexer] = value instead\n",
      "\n",
      "See the caveats in the documentation: https://pandas.pydata.org/pandas-docs/stable/user_guide/indexing.html#returning-a-view-versus-a-copy\n",
      "  SEM['Year'] = SEM['timestamp'].dt.year\n"
     ]
    },
    {
     "data": {
      "text/html": [
       "<div>\n",
       "<style scoped>\n",
       "    .dataframe tbody tr th:only-of-type {\n",
       "        vertical-align: middle;\n",
       "    }\n",
       "\n",
       "    .dataframe tbody tr th {\n",
       "        vertical-align: top;\n",
       "    }\n",
       "\n",
       "    .dataframe thead th {\n",
       "        text-align: right;\n",
       "    }\n",
       "</style>\n",
       "<table border=\"1\" class=\"dataframe\">\n",
       "  <thead>\n",
       "    <tr style=\"text-align: right;\">\n",
       "      <th></th>\n",
       "      <th>timestamp</th>\n",
       "      <th>company</th>\n",
       "      <th>level</th>\n",
       "      <th>title</th>\n",
       "      <th>totalyearlycompensation</th>\n",
       "      <th>location</th>\n",
       "      <th>yearsofexperience</th>\n",
       "      <th>yearsatcompany</th>\n",
       "      <th>tag</th>\n",
       "      <th>basesalary</th>\n",
       "      <th>...</th>\n",
       "      <th>Highschool</th>\n",
       "      <th>Some_College</th>\n",
       "      <th>Race_Asian</th>\n",
       "      <th>Race_White</th>\n",
       "      <th>Race_Two_Or_More</th>\n",
       "      <th>Race_Black</th>\n",
       "      <th>Race_Hispanic</th>\n",
       "      <th>Race</th>\n",
       "      <th>Education</th>\n",
       "      <th>Year</th>\n",
       "    </tr>\n",
       "  </thead>\n",
       "  <tbody>\n",
       "    <tr>\n",
       "      <th>3</th>\n",
       "      <td>2017-06-17 00:23:14</td>\n",
       "      <td>Apple</td>\n",
       "      <td>M1</td>\n",
       "      <td>Software Engineering Manager</td>\n",
       "      <td>372000</td>\n",
       "      <td>Sunnyvale, CA</td>\n",
       "      <td>7.0</td>\n",
       "      <td>5.0</td>\n",
       "      <td>NaN</td>\n",
       "      <td>157000.0</td>\n",
       "      <td>...</td>\n",
       "      <td>0</td>\n",
       "      <td>0</td>\n",
       "      <td>0</td>\n",
       "      <td>0</td>\n",
       "      <td>0</td>\n",
       "      <td>0</td>\n",
       "      <td>0</td>\n",
       "      <td>NaN</td>\n",
       "      <td>NaN</td>\n",
       "      <td>2017</td>\n",
       "    </tr>\n",
       "    <tr>\n",
       "      <th>6</th>\n",
       "      <td>2017-06-22 12:37:51</td>\n",
       "      <td>Microsoft</td>\n",
       "      <td>65</td>\n",
       "      <td>Software Engineering Manager</td>\n",
       "      <td>300000</td>\n",
       "      <td>Redmond, WA</td>\n",
       "      <td>15.0</td>\n",
       "      <td>11.0</td>\n",
       "      <td>NaN</td>\n",
       "      <td>180000.0</td>\n",
       "      <td>...</td>\n",
       "      <td>0</td>\n",
       "      <td>0</td>\n",
       "      <td>0</td>\n",
       "      <td>0</td>\n",
       "      <td>0</td>\n",
       "      <td>0</td>\n",
       "      <td>0</td>\n",
       "      <td>NaN</td>\n",
       "      <td>NaN</td>\n",
       "      <td>2017</td>\n",
       "    </tr>\n",
       "    <tr>\n",
       "      <th>10</th>\n",
       "      <td>2017-06-30 16:29:50</td>\n",
       "      <td>Salesforce</td>\n",
       "      <td>9</td>\n",
       "      <td>Software Engineering Manager</td>\n",
       "      <td>450000</td>\n",
       "      <td>San Francisco, CA</td>\n",
       "      <td>16.0</td>\n",
       "      <td>3.0</td>\n",
       "      <td>NaN</td>\n",
       "      <td>230000.0</td>\n",
       "      <td>...</td>\n",
       "      <td>0</td>\n",
       "      <td>0</td>\n",
       "      <td>0</td>\n",
       "      <td>0</td>\n",
       "      <td>0</td>\n",
       "      <td>0</td>\n",
       "      <td>0</td>\n",
       "      <td>NaN</td>\n",
       "      <td>NaN</td>\n",
       "      <td>2017</td>\n",
       "    </tr>\n",
       "    <tr>\n",
       "      <th>14</th>\n",
       "      <td>2017-07-14 21:36:15</td>\n",
       "      <td>Amazon</td>\n",
       "      <td>L6</td>\n",
       "      <td>Software Engineering Manager</td>\n",
       "      <td>287000</td>\n",
       "      <td>Seattle, WA</td>\n",
       "      <td>12.0</td>\n",
       "      <td>1.0</td>\n",
       "      <td>NaN</td>\n",
       "      <td>160000.0</td>\n",
       "      <td>...</td>\n",
       "      <td>0</td>\n",
       "      <td>0</td>\n",
       "      <td>0</td>\n",
       "      <td>0</td>\n",
       "      <td>0</td>\n",
       "      <td>0</td>\n",
       "      <td>0</td>\n",
       "      <td>NaN</td>\n",
       "      <td>NaN</td>\n",
       "      <td>2017</td>\n",
       "    </tr>\n",
       "    <tr>\n",
       "      <th>21</th>\n",
       "      <td>2017-07-29 19:56:08</td>\n",
       "      <td>Microsoft</td>\n",
       "      <td>67</td>\n",
       "      <td>Software Engineering Manager</td>\n",
       "      <td>462000</td>\n",
       "      <td>Bellevue, WA</td>\n",
       "      <td>15.0</td>\n",
       "      <td>15.0</td>\n",
       "      <td>NaN</td>\n",
       "      <td>240000.0</td>\n",
       "      <td>...</td>\n",
       "      <td>0</td>\n",
       "      <td>0</td>\n",
       "      <td>0</td>\n",
       "      <td>0</td>\n",
       "      <td>0</td>\n",
       "      <td>0</td>\n",
       "      <td>0</td>\n",
       "      <td>NaN</td>\n",
       "      <td>NaN</td>\n",
       "      <td>2017</td>\n",
       "    </tr>\n",
       "    <tr>\n",
       "      <th>...</th>\n",
       "      <td>...</td>\n",
       "      <td>...</td>\n",
       "      <td>...</td>\n",
       "      <td>...</td>\n",
       "      <td>...</td>\n",
       "      <td>...</td>\n",
       "      <td>...</td>\n",
       "      <td>...</td>\n",
       "      <td>...</td>\n",
       "      <td>...</td>\n",
       "      <td>...</td>\n",
       "      <td>...</td>\n",
       "      <td>...</td>\n",
       "      <td>...</td>\n",
       "      <td>...</td>\n",
       "      <td>...</td>\n",
       "      <td>...</td>\n",
       "      <td>...</td>\n",
       "      <td>...</td>\n",
       "      <td>...</td>\n",
       "      <td>...</td>\n",
       "    </tr>\n",
       "    <tr>\n",
       "      <th>62565</th>\n",
       "      <td>2018-07-06 09:31:41</td>\n",
       "      <td>Microsoft</td>\n",
       "      <td>L66</td>\n",
       "      <td>Software Engineering Manager</td>\n",
       "      <td>422000</td>\n",
       "      <td>Redmond, WA</td>\n",
       "      <td>19.0</td>\n",
       "      <td>16.0</td>\n",
       "      <td>Distributed Systems (Back-End)</td>\n",
       "      <td>203000.0</td>\n",
       "      <td>...</td>\n",
       "      <td>0</td>\n",
       "      <td>0</td>\n",
       "      <td>0</td>\n",
       "      <td>0</td>\n",
       "      <td>0</td>\n",
       "      <td>0</td>\n",
       "      <td>0</td>\n",
       "      <td>NaN</td>\n",
       "      <td>NaN</td>\n",
       "      <td>2018</td>\n",
       "    </tr>\n",
       "    <tr>\n",
       "      <th>62570</th>\n",
       "      <td>2018-07-08 18:16:53</td>\n",
       "      <td>eBay</td>\n",
       "      <td>27</td>\n",
       "      <td>Software Engineering Manager</td>\n",
       "      <td>390000</td>\n",
       "      <td>San Jose, CA</td>\n",
       "      <td>10.0</td>\n",
       "      <td>10.0</td>\n",
       "      <td>Distributed Systems (Back-End)</td>\n",
       "      <td>220000.0</td>\n",
       "      <td>...</td>\n",
       "      <td>0</td>\n",
       "      <td>0</td>\n",
       "      <td>0</td>\n",
       "      <td>0</td>\n",
       "      <td>0</td>\n",
       "      <td>0</td>\n",
       "      <td>0</td>\n",
       "      <td>NaN</td>\n",
       "      <td>NaN</td>\n",
       "      <td>2018</td>\n",
       "    </tr>\n",
       "    <tr>\n",
       "      <th>62617</th>\n",
       "      <td>2018-08-14 19:26:13</td>\n",
       "      <td>Microsoft</td>\n",
       "      <td>66</td>\n",
       "      <td>Software Engineering Manager</td>\n",
       "      <td>325000</td>\n",
       "      <td>Redmond, WA</td>\n",
       "      <td>20.0</td>\n",
       "      <td>18.0</td>\n",
       "      <td>Distributed Systems (Back-End)</td>\n",
       "      <td>208000.0</td>\n",
       "      <td>...</td>\n",
       "      <td>0</td>\n",
       "      <td>0</td>\n",
       "      <td>0</td>\n",
       "      <td>0</td>\n",
       "      <td>0</td>\n",
       "      <td>0</td>\n",
       "      <td>0</td>\n",
       "      <td>NaN</td>\n",
       "      <td>NaN</td>\n",
       "      <td>2018</td>\n",
       "    </tr>\n",
       "    <tr>\n",
       "      <th>62630</th>\n",
       "      <td>2018-08-28 21:38:58</td>\n",
       "      <td>Microsoft</td>\n",
       "      <td>64</td>\n",
       "      <td>Software Engineering Manager</td>\n",
       "      <td>250000</td>\n",
       "      <td>Seattle, WA</td>\n",
       "      <td>7.0</td>\n",
       "      <td>7.0</td>\n",
       "      <td>Distributed Systems (Back-End)</td>\n",
       "      <td>180000.0</td>\n",
       "      <td>...</td>\n",
       "      <td>0</td>\n",
       "      <td>0</td>\n",
       "      <td>0</td>\n",
       "      <td>0</td>\n",
       "      <td>0</td>\n",
       "      <td>0</td>\n",
       "      <td>0</td>\n",
       "      <td>NaN</td>\n",
       "      <td>NaN</td>\n",
       "      <td>2018</td>\n",
       "    </tr>\n",
       "    <tr>\n",
       "      <th>62631</th>\n",
       "      <td>2018-08-29 21:17:52</td>\n",
       "      <td>Facebook</td>\n",
       "      <td>E5</td>\n",
       "      <td>Software Engineering Manager</td>\n",
       "      <td>421000</td>\n",
       "      <td>Menlo Park, CA</td>\n",
       "      <td>13.0</td>\n",
       "      <td>3.0</td>\n",
       "      <td>Full Stack</td>\n",
       "      <td>193000.0</td>\n",
       "      <td>...</td>\n",
       "      <td>0</td>\n",
       "      <td>0</td>\n",
       "      <td>0</td>\n",
       "      <td>0</td>\n",
       "      <td>0</td>\n",
       "      <td>0</td>\n",
       "      <td>0</td>\n",
       "      <td>NaN</td>\n",
       "      <td>NaN</td>\n",
       "      <td>2018</td>\n",
       "    </tr>\n",
       "  </tbody>\n",
       "</table>\n",
       "<p>3569 rows × 30 columns</p>\n",
       "</div>"
      ],
      "text/plain": [
       "                timestamp     company level                         title  \\\n",
       "3     2017-06-17 00:23:14       Apple    M1  Software Engineering Manager   \n",
       "6     2017-06-22 12:37:51   Microsoft    65  Software Engineering Manager   \n",
       "10    2017-06-30 16:29:50  Salesforce     9  Software Engineering Manager   \n",
       "14    2017-07-14 21:36:15      Amazon    L6  Software Engineering Manager   \n",
       "21    2017-07-29 19:56:08   Microsoft    67  Software Engineering Manager   \n",
       "...                   ...         ...   ...                           ...   \n",
       "62565 2018-07-06 09:31:41   Microsoft   L66  Software Engineering Manager   \n",
       "62570 2018-07-08 18:16:53        eBay    27  Software Engineering Manager   \n",
       "62617 2018-08-14 19:26:13   Microsoft    66  Software Engineering Manager   \n",
       "62630 2018-08-28 21:38:58   Microsoft    64  Software Engineering Manager   \n",
       "62631 2018-08-29 21:17:52    Facebook    E5  Software Engineering Manager   \n",
       "\n",
       "       totalyearlycompensation           location  yearsofexperience  \\\n",
       "3                       372000      Sunnyvale, CA                7.0   \n",
       "6                       300000        Redmond, WA               15.0   \n",
       "10                      450000  San Francisco, CA               16.0   \n",
       "14                      287000        Seattle, WA               12.0   \n",
       "21                      462000       Bellevue, WA               15.0   \n",
       "...                        ...                ...                ...   \n",
       "62565                   422000        Redmond, WA               19.0   \n",
       "62570                   390000       San Jose, CA               10.0   \n",
       "62617                   325000        Redmond, WA               20.0   \n",
       "62630                   250000        Seattle, WA                7.0   \n",
       "62631                   421000     Menlo Park, CA               13.0   \n",
       "\n",
       "       yearsatcompany                             tag  basesalary  ...  \\\n",
       "3                 5.0                             NaN    157000.0  ...   \n",
       "6                11.0                             NaN    180000.0  ...   \n",
       "10                3.0                             NaN    230000.0  ...   \n",
       "14                1.0                             NaN    160000.0  ...   \n",
       "21               15.0                             NaN    240000.0  ...   \n",
       "...               ...                             ...         ...  ...   \n",
       "62565            16.0  Distributed Systems (Back-End)    203000.0  ...   \n",
       "62570            10.0  Distributed Systems (Back-End)    220000.0  ...   \n",
       "62617            18.0  Distributed Systems (Back-End)    208000.0  ...   \n",
       "62630             7.0  Distributed Systems (Back-End)    180000.0  ...   \n",
       "62631             3.0                      Full Stack    193000.0  ...   \n",
       "\n",
       "       Highschool  Some_College Race_Asian Race_White  Race_Two_Or_More  \\\n",
       "3               0             0          0          0                 0   \n",
       "6               0             0          0          0                 0   \n",
       "10              0             0          0          0                 0   \n",
       "14              0             0          0          0                 0   \n",
       "21              0             0          0          0                 0   \n",
       "...           ...           ...        ...        ...               ...   \n",
       "62565           0             0          0          0                 0   \n",
       "62570           0             0          0          0                 0   \n",
       "62617           0             0          0          0                 0   \n",
       "62630           0             0          0          0                 0   \n",
       "62631           0             0          0          0                 0   \n",
       "\n",
       "       Race_Black  Race_Hispanic  Race  Education  Year  \n",
       "3               0              0   NaN        NaN  2017  \n",
       "6               0              0   NaN        NaN  2017  \n",
       "10              0              0   NaN        NaN  2017  \n",
       "14              0              0   NaN        NaN  2017  \n",
       "21              0              0   NaN        NaN  2017  \n",
       "...           ...            ...   ...        ...   ...  \n",
       "62565           0              0   NaN        NaN  2018  \n",
       "62570           0              0   NaN        NaN  2018  \n",
       "62617           0              0   NaN        NaN  2018  \n",
       "62630           0              0   NaN        NaN  2018  \n",
       "62631           0              0   NaN        NaN  2018  \n",
       "\n",
       "[3569 rows x 30 columns]"
      ]
     },
     "execution_count": 20,
     "metadata": {},
     "output_type": "execute_result"
    }
   ],
   "source": [
    "SEM['Year'] = SEM['timestamp'].dt.year\n",
    "\n",
    "SEM"
   ]
  },
  {
   "cell_type": "code",
   "execution_count": 392,
   "metadata": {},
   "outputs": [
    {
     "data": {
      "text/plain": [
       "<AxesSubplot:xlabel='Year'>"
      ]
     },
     "execution_count": 392,
     "metadata": {},
     "output_type": "execute_result"
    },
    {
     "data": {
      "image/png": "[encoded data removed]",
      "text/plain": [
       "<Figure size 576x396 with 1 Axes>"
      ]
     },
     "metadata": {},
     "output_type": "display_data"
    }
   ],
   "source": [
    "SEM.groupby('Year')['totalyearlycompensation'].mean().plot(kind='bar')\n",
    "##SEM salaries peaked in to 2018/2019 and have fallen a little since then"
   ]
  }
 ],
 "metadata": {
  "kernelspec": {
   "display_name": "Python 3",
   "language": "python",
   "name": "python3"
  },
  "language_info": {
   "codemirror_mode": {
    "name": "ipython",
    "version": 3
   },
   "file_extension": ".py",
   "mimetype": "text/x-python",
   "name": "python",
   "nbconvert_exporter": "python",
   "pygments_lexer": "ipython3",
   "version": "3.8.5"
  }
 },
 "nbformat": 4,
 "nbformat_minor": 4
}
